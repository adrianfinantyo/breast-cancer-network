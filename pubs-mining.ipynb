{
 "cells": [
  {
   "attachments": {},
   "cell_type": "markdown",
   "metadata": {},
   "source": [
    "# Publications Mining from Pubtator Central"
   ]
  },
  {
   "attachments": {},
   "cell_type": "markdown",
   "metadata": {},
   "source": [
    "### Preqrequisites Libraries"
   ]
  },
  {
   "cell_type": "code",
   "execution_count": 1,
   "metadata": {},
   "outputs": [],
   "source": [
    "from bs4 import BeautifulSoup\n",
    "from selenium import webdriver\n",
    "from selenium.webdriver.support.ui import WebDriverWait\n",
    "from selenium.webdriver.support import expected_conditions as EC\n",
    "from selenium.webdriver.common.by import By\n",
    "from selenium.common.exceptions import TimeoutException\n",
    "import numpy as np\n",
    "import pandas as pd\n",
    "import calendar\n",
    "import time"
   ]
  },
  {
   "attachments": {},
   "cell_type": "markdown",
   "metadata": {},
   "source": [
    "### Mining Config"
   ]
  },
  {
   "cell_type": "code",
   "execution_count": 2,
   "metadata": {},
   "outputs": [],
   "source": [
    "query = \"breast cancer\"\n",
    "url = \"https://www.ncbi.nlm.nih.gov/research/pubtator/?view=docsum&query={}&page={}\""
   ]
  },
  {
   "attachments": {},
   "cell_type": "markdown",
   "metadata": {},
   "source": [
    "## Publications Mining"
   ]
  },
  {
   "attachments": {},
   "cell_type": "markdown",
   "metadata": {},
   "source": [
    "### Functions"
   ]
  },
  {
   "cell_type": "code",
   "execution_count": 3,
   "metadata": {},
   "outputs": [],
   "source": [
    "browser = webdriver.PhantomJS(executable_path=\"C:\\\\Program Files\\\\env-plugins\\\\phantomjs\")\n",
    "logs_str = \"Logs: {}\"\n",
    "\n",
    "def get_publication_perpage(query, page):\n",
    "    print(logs_str.format(\"Getting page {}\".format(page)))\n",
    "\n",
    "    pubs = np.array([])\n",
    "\n",
    "    browser.get(url.format(query, page))\n",
    "    wait = WebDriverWait(browser, 10)\n",
    "    wait.until(EC.presence_of_element_located((By.CLASS_NAME, \"publication\")))\n",
    "\n",
    "    html = browser.page_source\n",
    "    soup = BeautifulSoup(html, 'html.parser')\n",
    "    journals = soup.find_all('div', {'class': 'publication'})\n",
    "\n",
    "\n",
    "    for journal in journals:\n",
    "        title = journal.find('a', {'class': 'publication-title'}).get_text().strip()\n",
    "        pmid = journal.get('data-pmid').strip()\n",
    "        pub = np.array([pmid, title])\n",
    "        pubs = np.append(pubs, pub)\n",
    "\n",
    "    return pubs\n",
    "\n",
    "def get_publications(query, start_page=1, target_page=1):\n",
    "    print(logs_str.format(\"🔨 Getting publications for query: {}\".format(query)))\n",
    "    print(logs_str.format(\"Start working from page {} to page {}\".format(start_page, target_page)))\n",
    "\n",
    "    pubs = np.array([])\n",
    "    for page in range(start_page, target_page + 1):\n",
    "        pubs = np.append(pubs, get_publication_perpage(query, page))\n",
    "        \n",
    "    print(\"-\" * 50)\n",
    "    print(logs_str.format(\"🌟 Job done!\"))\n",
    "\n",
    "    return pubs\n",
    "\n",
    "def transorm_to_df(pubs):\n",
    "    df = pd.DataFrame(pubs.reshape(-1, 2), columns=['PMID', 'Publication_Title'])\n",
    "    return df"
   ]
  },
  {
   "attachments": {},
   "cell_type": "markdown",
   "metadata": {},
   "source": [
    "### Mining"
   ]
  },
  {
   "cell_type": "code",
   "execution_count": 4,
   "metadata": {},
   "outputs": [
    {
     "name": "stdout",
     "output_type": "stream",
     "text": [
      "Logs: 🔨 Getting publications for query: breast cancer\n",
      "Logs: Start working from page 1 to page 50\n",
      "Logs: Getting page 1\n",
      "Logs: Getting page 2\n",
      "Logs: Getting page 3\n",
      "Logs: Getting page 4\n",
      "Logs: Getting page 5\n",
      "Logs: Getting page 6\n",
      "Logs: Getting page 7\n",
      "Logs: Getting page 8\n",
      "Logs: Getting page 9\n",
      "Logs: Getting page 10\n",
      "Logs: Getting page 11\n",
      "Logs: Getting page 12\n",
      "Logs: Getting page 13\n",
      "Logs: Getting page 14\n",
      "Logs: Getting page 15\n",
      "Logs: Getting page 16\n",
      "Logs: Getting page 17\n",
      "Logs: Getting page 18\n",
      "Logs: Getting page 19\n",
      "Logs: Getting page 20\n",
      "Logs: Getting page 21\n",
      "Logs: Getting page 22\n",
      "Logs: Getting page 23\n",
      "Logs: Getting page 24\n",
      "Logs: Getting page 25\n",
      "Logs: Getting page 26\n",
      "Logs: Getting page 27\n",
      "Logs: Getting page 28\n",
      "Logs: Getting page 29\n",
      "Logs: Getting page 30\n",
      "Logs: Getting page 31\n",
      "Logs: Getting page 32\n",
      "Logs: Getting page 33\n",
      "Logs: Getting page 34\n",
      "Logs: Getting page 35\n",
      "Logs: Getting page 36\n",
      "Logs: Getting page 37\n",
      "Logs: Getting page 38\n",
      "Logs: Getting page 39\n",
      "Logs: Getting page 40\n",
      "Logs: Getting page 41\n",
      "Logs: Getting page 42\n",
      "Logs: Getting page 43\n",
      "Logs: Getting page 44\n",
      "Logs: Getting page 45\n",
      "Logs: Getting page 46\n",
      "Logs: Getting page 47\n",
      "Logs: Getting page 48\n",
      "Logs: Getting page 49\n",
      "Logs: Getting page 50\n",
      "--------------------------------------------------\n",
      "Logs: 🌟 Job done!\n"
     ]
    },
    {
     "data": {
      "text/html": [
       "<div>\n",
       "<style scoped>\n",
       "    .dataframe tbody tr th:only-of-type {\n",
       "        vertical-align: middle;\n",
       "    }\n",
       "\n",
       "    .dataframe tbody tr th {\n",
       "        vertical-align: top;\n",
       "    }\n",
       "\n",
       "    .dataframe thead th {\n",
       "        text-align: right;\n",
       "    }\n",
       "</style>\n",
       "<table border=\"1\" class=\"dataframe\">\n",
       "  <thead>\n",
       "    <tr style=\"text-align: right;\">\n",
       "      <th></th>\n",
       "      <th>PMID</th>\n",
       "      <th>Publication_Title</th>\n",
       "    </tr>\n",
       "  </thead>\n",
       "  <tbody>\n",
       "    <tr>\n",
       "      <th>count</th>\n",
       "      <td>750</td>\n",
       "      <td>750</td>\n",
       "    </tr>\n",
       "    <tr>\n",
       "      <th>unique</th>\n",
       "      <td>750</td>\n",
       "      <td>750</td>\n",
       "    </tr>\n",
       "    <tr>\n",
       "      <th>top</th>\n",
       "      <td>36800640</td>\n",
       "      <td>Experiences of a Multiethnic Cohort of Patient...</td>\n",
       "    </tr>\n",
       "    <tr>\n",
       "      <th>freq</th>\n",
       "      <td>1</td>\n",
       "      <td>1</td>\n",
       "    </tr>\n",
       "  </tbody>\n",
       "</table>\n",
       "</div>"
      ],
      "text/plain": [
       "            PMID                                  Publication_Title\n",
       "count        750                                                750\n",
       "unique       750                                                750\n",
       "top     36800640  Experiences of a Multiethnic Cohort of Patient...\n",
       "freq           1                                                  1"
      ]
     },
     "execution_count": 4,
     "metadata": {},
     "output_type": "execute_result"
    }
   ],
   "source": [
    "pubs = get_publications(query, 1, 50)\n",
    "pubs_df = transorm_to_df(pubs)\n",
    "\n",
    "pubs_df.describe()"
   ]
  },
  {
   "attachments": {},
   "cell_type": "markdown",
   "metadata": {},
   "source": [
    "### Export Data to CSV"
   ]
  },
  {
   "cell_type": "code",
   "execution_count": 5,
   "metadata": {},
   "outputs": [],
   "source": [
    "file_path = \"./data/\"\n",
    "ts = calendar.timegm(time.gmtime())\n",
    "num_pubs = pubs_df.shape[0]\n",
    "file_name = \"{}-pubs-{}-{}.csv\".format(ts, query.replace(\" \", \"-\"), num_pubs)\n",
    "\n",
    "pubs_df.to_csv(file_path+file_name, index=False)"
   ]
  }
 ],
 "metadata": {
  "kernelspec": {
   "display_name": "base",
   "language": "python",
   "name": "python3"
  },
  "language_info": {
   "codemirror_mode": {
    "name": "ipython",
    "version": 3
   },
   "file_extension": ".py",
   "mimetype": "text/x-python",
   "name": "python",
   "nbconvert_exporter": "python",
   "pygments_lexer": "ipython3",
   "version": "3.9.7"
  },
  "orig_nbformat": 4,
  "vscode": {
   "interpreter": {
    "hash": "af2924f10f5eb76fd65ccea448a69e80be7838e947e8a1ae982ab7073141c8a7"
   }
  }
 },
 "nbformat": 4,
 "nbformat_minor": 2
}
