{
 "cells": [
  {
   "attachments": {},
   "cell_type": "markdown",
   "metadata": {},
   "source": [
    "# Diseases Mining from Pubtator Central"
   ]
  },
  {
   "attachments": {},
   "cell_type": "markdown",
   "metadata": {},
   "source": [
    "### Preqrequisites Libraries"
   ]
  },
  {
   "cell_type": "code",
   "execution_count": null,
   "metadata": {},
   "outputs": [],
   "source": [
    "from bs4 import BeautifulSoup\n",
    "import requests\n",
    "import numpy as np\n",
    "import pandas as pd\n",
    "import calendar\n",
    "import time"
   ]
  },
  {
   "attachments": {},
   "cell_type": "markdown",
   "metadata": {},
   "source": [
    "### Mining Config"
   ]
  },
  {
   "cell_type": "code",
   "execution_count": null,
   "metadata": {},
   "outputs": [],
   "source": [
    "url = \"https://www.ncbi.nlm.nih.gov/research/pubtator-api/publications/export/biocxml?pmids={}\"\n",
    "\n",
    "pubs_df = pd.read_csv(\"./data/1676817647-pubs-breast-cancer-750.csv\")"
   ]
  },
  {
   "attachments": {},
   "cell_type": "markdown",
   "metadata": {},
   "source": [
    "## Publications Mining"
   ]
  },
  {
   "attachments": {},
   "cell_type": "markdown",
   "metadata": {},
   "source": [
    "### Functions"
   ]
  },
  {
   "cell_type": "code",
   "execution_count": null,
   "metadata": {},
   "outputs": [],
   "source": [
    "logs_str = \"Logs: {}\"\n",
    "\n",
    "def get_disease_from_pubs(row):\n",
    "    print(logs_str.format(\"Getting disease from pub: {}\".format(row['PMID'])))\n",
    "\n",
    "    disease = np.array([])\n",
    "\n",
    "    metadata_url = url.format(row['PMID'])\n",
    "    metadata_response = requests.get(metadata_url)\n",
    "\n",
    "    metadata_soup = BeautifulSoup(metadata_response.content, 'lxml')\n",
    "    disease_sections = metadata_soup.find_all('infon', {'key': 'type'})\n",
    "    for disease_section in disease_sections:\n",
    "        if(disease_section.get_text().strip().lower() == 'disease'):\n",
    "            text = disease_section.parent.find('text').get_text().strip()\n",
    "            new_disease = np.array([row['PMID'], text])\n",
    "            disease = np.append(disease, new_disease)\n",
    "\n",
    "    print(logs_str.format(\"Found: {} diseases\".format(disease.size)))\n",
    "\n",
    "    return disease\n",
    "\n",
    "def get_disease(df, limit=0):\n",
    "    print(logs_str.format(\"🔨 Getting disease from {} publications\".format(df.shape[0])))\n",
    "    disease = np.array([])\n",
    "    for index, row in df.iterrows():\n",
    "        if(limit > 0 and index >= limit):\n",
    "            break\n",
    "        print(logs_str.format(\"Iteration number: {}\".format(index)))\n",
    "        new_disease = get_disease_from_pubs(row)\n",
    "        disease = np.append(disease, new_disease)\n",
    "\n",
    "    disease = disease.reshape(-1, 3)\n",
    "    \n",
    "    print(\"-\" * 50)\n",
    "    print(logs_str.format(\"🌟 Job done!\"))\n",
    "    \n",
    "    return disease\n",
    "\n",
    "def transorm_to_df(pubs, columns):\n",
    "    df = pd.DataFrame(pubs.reshape(-1, 2), columns=columns)\n",
    "    return df"
   ]
  },
  {
   "attachments": {},
   "cell_type": "markdown",
   "metadata": {},
   "source": [
    "### Mining"
   ]
  },
  {
   "cell_type": "code",
   "execution_count": null,
   "metadata": {},
   "outputs": [],
   "source": [
    "diseases = get_disease(pubs_df)\n",
    "diseases_df = transorm_to_df(diseases, ['PMID', 'Disease'])\n",
    "\n",
    "diseases_df.describe()"
   ]
  },
  {
   "attachments": {},
   "cell_type": "markdown",
   "metadata": {},
   "source": [
    "### Export Data to CSV"
   ]
  },
  {
   "cell_type": "code",
   "execution_count": null,
   "metadata": {},
   "outputs": [],
   "source": [
    "file_path = \"./data/\"\n",
    "ts = calendar.timegm(time.gmtime())\n",
    "num_dis = diseases_df.shape[0]\n",
    "file_name = \"{}-diseases-{}.csv\".format(ts, num_dis)\n",
    "\n",
    "pubs_df.to_csv(file_path+file_name, index=False)"
   ]
  }
 ],
 "metadata": {
  "kernelspec": {
   "display_name": "base",
   "language": "python",
   "name": "python3"
  },
  "language_info": {
   "codemirror_mode": {
    "name": "ipython",
    "version": 3
   },
   "file_extension": ".py",
   "mimetype": "text/x-python",
   "name": "python",
   "nbconvert_exporter": "python",
   "pygments_lexer": "ipython3",
   "version": "3.9.7"
  },
  "orig_nbformat": 4,
  "vscode": {
   "interpreter": {
    "hash": "af2924f10f5eb76fd65ccea448a69e80be7838e947e8a1ae982ab7073141c8a7"
   }
  }
 },
 "nbformat": 4,
 "nbformat_minor": 2
}
