{
 "cells": [
  {
   "cell_type": "markdown",
   "metadata": {},
   "source": [
    "# Diseases Mining from Pubtator Central"
   ]
  },
  {
   "cell_type": "markdown",
   "metadata": {},
   "source": [
    "### Preqrequisites Libraries"
   ]
  },
  {
   "cell_type": "code",
   "execution_count": 1,
   "metadata": {},
   "outputs": [],
   "source": [
    "from bs4 import BeautifulSoup\n",
    "import requests\n",
    "import numpy as np\n",
    "import pandas as pd\n",
    "import calendar\n",
    "import time"
   ]
  },
  {
   "cell_type": "markdown",
   "metadata": {},
   "source": [
    "### Mining Config"
   ]
  },
  {
   "cell_type": "code",
   "execution_count": 2,
   "metadata": {},
   "outputs": [],
   "source": [
    "url = \"https://www.ncbi.nlm.nih.gov/research/pubtator-api/publications/export/biocxml?pmids={}\"\n",
    "\n",
    "pubs_df = pd.read_csv(\"./data/1676879038-pubs-breast-cancer-4860.csv\")"
   ]
  },
  {
   "cell_type": "markdown",
   "metadata": {},
   "source": [
    "### Functions"
   ]
  },
  {
   "cell_type": "code",
   "execution_count": 3,
   "metadata": {},
   "outputs": [],
   "source": [
    "logs_str = \"Logs: {}\"\n",
    "\n",
    "def get_disease_from_pubs(row):\n",
    "    print(logs_str.format(\"Getting disease from pub: {}\".format(row['PMID'])))\n",
    "\n",
    "    disease = np.array([])\n",
    "\n",
    "    metadata_url = url.format(row['PMID'])\n",
    "    metadata_response = requests.get(metadata_url)\n",
    "\n",
    "    metadata_soup = BeautifulSoup(metadata_response.content, 'lxml')\n",
    "    disease_sections = metadata_soup.find_all('infon', {'key': 'type'})\n",
    "    for disease_section in disease_sections:\n",
    "        if(disease_section.get_text().strip().lower() == 'disease'):\n",
    "            text = disease_section.parent.find('text').get_text().strip()\n",
    "            new_disease = np.array([row['PMID'], text])\n",
    "            disease = np.append(disease, new_disease)\n",
    "\n",
    "    print(logs_str.format(\"Found: {} diseases\".format(disease.size)))\n",
    "\n",
    "    return disease\n",
    "\n",
    "def get_disease(df, limit=0):\n",
    "    print(logs_str.format(\"🔨 Getting disease from {} publications\".format(df.shape[0])))\n",
    "    disease = np.array([])\n",
    "    for index, row in df.iterrows():\n",
    "        if(limit > 0 and index >= limit):\n",
    "            break\n",
    "\n",
    "        print(logs_str.format(\"Iteration number: {}\".format(index)))\n",
    "        \n",
    "        try:\n",
    "            new_disease = get_disease_from_pubs(row)\n",
    "            disease = np.append(disease, new_disease)\n",
    "        except Exception as e:\n",
    "            print(logs_str.format(\"Error: {}\".format(e)))\n",
    "            continue\n",
    "    \n",
    "    print(\"-\" * 50)\n",
    "    print(logs_str.format(\"🌟 Job done!\"))\n",
    "    \n",
    "    return disease\n",
    "\n",
    "def transorm_to_df(dis, columns):\n",
    "    df = pd.DataFrame(dis.reshape(-1, 2), columns=columns)\n",
    "    return df"
   ]
  },
  {
   "cell_type": "markdown",
   "metadata": {},
   "source": [
    "### Mining"
   ]
  },
  {
   "cell_type": "code",
   "execution_count": null,
   "metadata": {},
   "outputs": [
    {
     "name": "stdout",
     "output_type": "stream",
     "text": [
      "Logs: 🔨 Getting disease from 4860 publications\n",
      "Logs: Iteration number: 0\n",
      "Logs: Getting disease from pub: 36800640\n"
     ]
    },
    {
     "name": "stderr",
     "output_type": "stream",
     "text": [
      "/home/adrianfinantyo/miniconda3/lib/python3.10/site-packages/bs4/builder/__init__.py:545: XMLParsedAsHTMLWarning: It looks like you're parsing an XML document using an HTML parser. If this really is an HTML document (maybe it's XHTML?), you can ignore or filter this warning. If it's XML, you should know that using an XML parser will be more reliable. To parse this document as XML, make sure you have the lxml package installed, and pass the keyword argument `features=\"xml\"` into the BeautifulSoup constructor.\n",
      "  warnings.warn(\n"
     ]
    },
    {
     "name": "stdout",
     "output_type": "stream",
     "text": [
      "Logs: Found: 0 diseases\n",
      "Logs: Iteration number: 1\n",
      "Logs: Getting disease from pub: 36800620\n",
      "Logs: Found: 0 diseases\n",
      "Logs: Iteration number: 2\n",
      "Logs: Getting disease from pub: 36800575\n",
      "Logs: Found: 0 diseases\n",
      "Logs: Iteration number: 3\n",
      "Logs: Getting disease from pub: 36800561\n",
      "Logs: Found: 0 diseases\n",
      "Logs: Iteration number: 4\n",
      "Logs: Getting disease from pub: 36800556\n",
      "Logs: Found: 0 diseases\n",
      "Logs: Iteration number: 5\n",
      "Logs: Getting disease from pub: 36800552\n",
      "Logs: Found: 0 diseases\n",
      "Logs: Iteration number: 6\n",
      "Logs: Getting disease from pub: 36800539\n",
      "Logs: Found: 0 diseases\n",
      "Logs: Iteration number: 7\n",
      "Logs: Getting disease from pub: 36800443\n",
      "Logs: Found: 0 diseases\n",
      "Logs: Iteration number: 8\n",
      "Logs: Getting disease from pub: 36800412\n",
      "Logs: Found: 0 diseases\n",
      "Logs: Iteration number: 9\n",
      "Logs: Getting disease from pub: 36800370\n",
      "Logs: Found: 0 diseases\n",
      "Logs: Iteration number: 10\n",
      "Logs: Getting disease from pub: 36800273\n",
      "Logs: Found: 0 diseases\n",
      "Logs: Iteration number: 11\n",
      "Logs: Getting disease from pub: 36800243\n",
      "Logs: Found: 0 diseases\n",
      "Logs: Iteration number: 12\n",
      "Logs: Getting disease from pub: 36800175\n",
      "Logs: Found: 0 diseases\n",
      "Logs: Iteration number: 13\n",
      "Logs: Getting disease from pub: 36800118\n",
      "Logs: Found: 0 diseases\n",
      "Logs: Iteration number: 14\n",
      "Logs: Getting disease from pub: 36800117\n",
      "Logs: Found: 0 diseases\n",
      "Logs: Iteration number: 15\n",
      "Logs: Getting disease from pub: 36800111\n",
      "Logs: Found: 0 diseases\n",
      "Logs: Iteration number: 16\n",
      "Logs: Getting disease from pub: 36800077\n",
      "Logs: Found: 0 diseases\n",
      "Logs: Iteration number: 17\n",
      "Logs: Getting disease from pub: 36800056\n",
      "Logs: Found: 0 diseases\n",
      "Logs: Iteration number: 18\n",
      "Logs: Getting disease from pub: 36799863\n",
      "Logs: Found: 0 diseases\n",
      "Logs: Iteration number: 19\n",
      "Logs: Getting disease from pub: 36799717\n",
      "Logs: Found: 0 diseases\n",
      "Logs: Iteration number: 20\n",
      "Logs: Getting disease from pub: 36799690\n",
      "Logs: Found: 0 diseases\n",
      "Logs: Iteration number: 21\n",
      "Logs: Getting disease from pub: 36799539\n",
      "Logs: Found: 0 diseases\n",
      "Logs: Iteration number: 22\n",
      "Logs: Getting disease from pub: 36799501\n",
      "Logs: Found: 0 diseases\n",
      "Logs: Iteration number: 23\n",
      "Logs: Getting disease from pub: 36799369\n",
      "Logs: Found: 0 diseases\n",
      "Logs: Iteration number: 24\n",
      "Logs: Getting disease from pub: 36799362\n",
      "Logs: Found: 0 diseases\n",
      "Logs: Iteration number: 25\n",
      "Logs: Getting disease from pub: 36799204\n",
      "Logs: Found: 0 diseases\n",
      "Logs: Iteration number: 26\n",
      "Logs: Getting disease from pub: 36799191\n",
      "Logs: Found: 0 diseases\n",
      "Logs: Iteration number: 27\n",
      "Logs: Getting disease from pub: 36799186\n",
      "Logs: Found: 0 diseases\n",
      "Logs: Iteration number: 28\n",
      "Logs: Getting disease from pub: 36799150\n",
      "Logs: Found: 0 diseases\n",
      "Logs: Iteration number: 29\n",
      "Logs: Getting disease from pub: 36799119\n",
      "Logs: Found: 0 diseases\n",
      "Logs: Iteration number: 30\n",
      "Logs: Getting disease from pub: 36799091\n",
      "Logs: Found: 0 diseases\n",
      "Logs: Iteration number: 31\n",
      "Logs: Getting disease from pub: 36798947\n",
      "Logs: Found: 0 diseases\n",
      "Logs: Iteration number: 32\n",
      "Logs: Getting disease from pub: 36798827\n",
      "Logs: Found: 0 diseases\n",
      "Logs: Iteration number: 33\n",
      "Logs: Getting disease from pub: 36798812\n",
      "Logs: Found: 0 diseases\n",
      "Logs: Iteration number: 34\n",
      "Logs: Getting disease from pub: 36798807\n",
      "Logs: Found: 0 diseases\n",
      "Logs: Iteration number: 35\n",
      "Logs: Getting disease from pub: 36798787\n",
      "Logs: Found: 0 diseases\n",
      "Logs: Iteration number: 36\n",
      "Logs: Getting disease from pub: 36798786\n",
      "Logs: Found: 0 diseases\n",
      "Logs: Iteration number: 37\n",
      "Logs: Getting disease from pub: 36798745\n",
      "Logs: Found: 0 diseases\n",
      "Logs: Iteration number: 38\n",
      "Logs: Getting disease from pub: 36798690\n",
      "Logs: Found: 0 diseases\n",
      "Logs: Iteration number: 39\n",
      "Logs: Getting disease from pub: 36798680\n",
      "Logs: Found: 0 diseases\n",
      "Logs: Iteration number: 40\n",
      "Logs: Getting disease from pub: 36798671\n",
      "Logs: Found: 0 diseases\n",
      "Logs: Iteration number: 41\n",
      "Logs: Getting disease from pub: 36798607\n",
      "Logs: Found: 0 diseases\n",
      "Logs: Iteration number: 42\n",
      "Logs: Getting disease from pub: 36798606\n",
      "Logs: Found: 0 diseases\n",
      "Logs: Iteration number: 43\n",
      "Logs: Getting disease from pub: 36798532\n",
      "Logs: Found: 0 diseases\n",
      "Logs: Iteration number: 44\n",
      "Logs: Getting disease from pub: 36798467\n",
      "Logs: Found: 0 diseases\n",
      "Logs: Iteration number: 45\n",
      "Logs: Getting disease from pub: 36798429\n",
      "Logs: Found: 0 diseases\n",
      "Logs: Iteration number: 46\n",
      "Logs: Getting disease from pub: 36798383\n",
      "Logs: Found: 0 diseases\n",
      "Logs: Iteration number: 47\n",
      "Logs: Getting disease from pub: 36798342\n",
      "Logs: Found: 0 diseases\n",
      "Logs: Iteration number: 48\n",
      "Logs: Getting disease from pub: 36798328\n",
      "Logs: Found: 0 diseases\n",
      "Logs: Iteration number: 49\n",
      "Logs: Getting disease from pub: 36798316\n",
      "Logs: Found: 0 diseases\n",
      "Logs: Iteration number: 50\n",
      "Logs: Getting disease from pub: 36798307\n",
      "Logs: Found: 0 diseases\n",
      "Logs: Iteration number: 51\n",
      "Logs: Getting disease from pub: 36798292\n",
      "Logs: Found: 0 diseases\n",
      "Logs: Iteration number: 52\n",
      "Logs: Getting disease from pub: 36798154\n"
     ]
    }
   ],
   "source": [
    "diseases = get_disease(pubs_df)\n",
    "diseases_df = transorm_to_df(diseases, ['PMID', 'Disease'])\n",
    "\n",
    "diseases_df.dropna(inplace=True) # Remove NaN\n",
    "diseases_df[\"Disease\"] = diseases_df[\"Disease\"].astype(str).str.lower() # Lowercase\n",
    "diseases_df = diseases_df.drop_duplicates() # Remove duplicates\n",
    "\n",
    "diseases_df.describe()"
   ]
  },
  {
   "cell_type": "markdown",
   "metadata": {},
   "source": [
    "### Export Data to CSV"
   ]
  },
  {
   "cell_type": "code",
   "execution_count": null,
   "metadata": {},
   "outputs": [],
   "source": [
    "file_path = \"./data/\"\n",
    "ts = calendar.timegm(time.gmtime())\n",
    "num_dis = diseases_df.shape[0]\n",
    "file_name = \"{}-diseases-{}.csv\".format(ts, num_dis)\n",
    "\n",
    "diseases_df.to_csv(file_path+file_name, index=False)"
   ]
  }
 ],
 "metadata": {
  "kernelspec": {
   "display_name": "Python 3 (ipykernel)",
   "language": "python",
   "name": "python3"
  },
  "language_info": {
   "codemirror_mode": {
    "name": "ipython",
    "version": 3
   },
   "file_extension": ".py",
   "mimetype": "text/x-python",
   "name": "python",
   "nbconvert_exporter": "python",
   "pygments_lexer": "ipython3",
   "version": "3.10.9"
  },
  "vscode": {
   "interpreter": {
    "hash": "af2924f10f5eb76fd65ccea448a69e80be7838e947e8a1ae982ab7073141c8a7"
   }
  }
 },
 "nbformat": 4,
 "nbformat_minor": 4
}
